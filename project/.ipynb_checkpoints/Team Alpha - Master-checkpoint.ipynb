{
 "cells": [
  {
   "cell_type": "markdown",
   "id": "f01247aab88afc0d",
   "metadata": {},
   "source": [
    "# QF603 Project - Alpha Generation, Portfolio Construction "
   ]
  },
  {
   "cell_type": "markdown",
   "id": "38bdaeaa0f5253c2",
   "metadata": {},
   "source": [
    "## by Team Alpha : DENG Ke, LEE How-Chih Howard, LEI YuMing, SOH Giap Hong Daniel , WANG WenJie, XUE Yuanhuang, YU ChunXue\n"
   ]
  },
  {
   "cell_type": "markdown",
   "id": "9282ad6674c4c24a",
   "metadata": {},
   "source": [
    "### SCENARIO: We are an ETF Manager, actively managing our ETF products linked to popular stock indices for Asian clients.  In particular, we seek to generate Alpha for our “China A-50\" ETF investors who like the diversity of the FTSE China A-50 Index, but are looking for outperformance versus the Index by taking a bit more risk from increased volatility of returns.  \n",
    "\n",
    "### We look to examine the period from 01/01/2016 to 31/03/2022, a six-year period spanning Covid-19, which dramatically affected the economy and financial markets in China.  We seek to understand:\n",
    "### <font color = 'red'> (1) how the advent of Covid–19 in Feb/Mar 2020 and subsequent social measures taken by governments affect our Alpha strategy, and \n",
    "### <font color = 'red'> (2) how the resulting regime change requires us to take into account new explanatory variables and recalibrate our models, in order to improve our Alpha strategy.\n"
   ]
  },
  {
   "cell_type": "markdown",
   "id": "897717b0ff712319",
   "metadata": {},
   "source": [
    "### (1) Define The Question\n",
    "#### How can we generate Alpha for our actively managed ETF, benchmarked to the FTSE China A-50 Index, under normal market conditions and following external shocks that result in regime change?\n",
    "#### Null hypothesis: that our ETF does not beat the China A-50 Index in a statistically significant way over the six-year time period\n"
   ]
  },
  {
   "cell_type": "code",
   "execution_count": null,
   "id": "c5cf499c1e24cd3a",
   "metadata": {},
   "outputs": [],
   "source": [
    "# Load Libraries and Set Print Options \n",
    "\n",
    "import numpy as np\n",
    "import pandas as pd\n",
    "\n",
    "import matplotlib.pyplot as plt\n",
    "import matplotlib as mpl\n",
    "\n",
    "import seaborn as sns\n",
    "\n",
    "import time\n",
    "\n",
    "import datetime as dt\n",
    "import re\n",
    "\n",
    "import plotly.express as px\n",
    "\n",
    "import warnings\n",
    "warnings.filterwarnings(\"ignore\")\n",
    "\n",
    "# Setting baseline seed\n",
    "np.random.seed(230218)\n",
    "\n"
   ]
  },
  {
   "cell_type": "code",
   "execution_count": null,
   "id": "6d884d0f86bc1fbc",
   "metadata": {},
   "outputs": [],
   "source": [
    "# Set print options.\n",
    "\n",
    "np.set_printoptions(precision = 3)\n",
    "\n",
    "plt.style.use(\"ggplot\") # Grammar of Graphics Theme\n",
    "\n",
    "mpl.rcParams[\"axes.grid\"] = True\n",
    "mpl.rcParams[\"grid.color\"] = \"grey\"\n",
    "mpl.rcParams[\"grid.alpha\"] = 0.25\n",
    "\n",
    "mpl.rcParams[\"axes.facecolor\"] = \"white\"\n",
    "\n",
    "mpl.rcParams[\"legend.fontsize\"] = 14\n",
    "\n",
    "%matplotlib inline"
   ]
  },
  {
   "cell_type": "markdown",
   "id": "feab914b7269d5dd",
   "metadata": {},
   "source": [
    "### (2) Import Data from External Source/Wrangle Data for given time period (01/01/2016 to 31/08/2023)\n",
    "### Convert absolute price change to pct_change, Clean up NaN values, ffill where required"
   ]
  },
  {
   "cell_type": "code",
   "execution_count": null,
   "id": "ba91e084a5dfd7c3",
   "metadata": {},
   "outputs": [],
   "source": [
    "# Download csv files from Google Drive QF603/data and read csv into DataFrame \n",
    "# A50 China Index.csv ==> Index_df, use this to compare against own A50 Index to make sure consistent\n",
    "# all_data.csv ==> df_data, this includes more time periods than our examination period and includes the FTSE A50 Index\n",
    "# all_weights.csv ==> df_weights\n",
    "# [all_industry.csv] ==> all_class\n"
   ]
  },
  {
   "cell_type": "code",
   "execution_count": null,
   "id": "9cbd6761",
   "metadata": {},
   "outputs": [],
   "source": [
    "all_weights = pd.read_csv('all_weights.csv',index_col=0)\n",
    "all_weights"
   ]
  },
  {
   "cell_type": "code",
   "execution_count": null,
   "id": "d8c6672b",
   "metadata": {},
   "outputs": [],
   "source": [
    "df_data = pd.read_csv('all_data.csv',index_col=0)\n",
    "df_data"
   ]
  },
  {
   "cell_type": "markdown",
   "id": "3ae22936a016799c",
   "metadata": {},
   "source": [
    "### (3-1) Construct BBoss_ETF using Total Capital = RMB 100 mio, for first training period (q-1) where q = 2Q2016 \n",
    "### BBoss_ETF = (W1 x Index) + (W2 x Big_10) + (W3 x Best_10)\n",
    "### where: W1 = 50%, W2 = 25%, W3 = 25%\n",
    "### \tIndex {'a50'} = A-50 Index, but scaled down by 0.5X\n",
    "###     Big_10 {'size'} = 10 largest component Stocks by market value (in any one quarter), with an aggregate weighting within Index = A% (normally around 44%~48%). Each of Big 10 will have weightings a1 to a10 from the Index, and within the BBoss ETF, their weightings shall be (an/A)*W2%.  \n",
    "### Best_10 {'mom'} = 10 component Stocks with the highest expected growth in stock price, forecast using Momentum Indicators. For simplicity, each of Best 10 will have equal weightings b within the ETF, where b = W3/10 = 2.5%.\n",
    "### However, for first training period, there were no prior training periods, so start with Best_10 based on historical price data in period = (q-1)\n",
    "### Introduce a Moving Window to your training/test set for q1 to q22 where q1=4Q2016 and q22=1Q2022. The ETF_stats should exhibit outperformance until 1Q2020, and then underperformance from 2Q2020 onwards. You will end up with 22 train/test sets\n",
    "### You may also try and use one quarter to train and next quarter to test. q1=3Q2016 and q23=2022. You will end up with 23 training / test sets \n",
    "  "
   ]
  },
  {
   "cell_type": "code",
   "execution_count": null,
   "id": "c6e22253065eb1cf",
   "metadata": {},
   "outputs": [],
   "source": []
  },
  {
   "cell_type": "markdown",
   "id": "9021a28140749de",
   "metadata": {},
   "source": [
    "### (3-2) Run Exploratory Data Analysis on BBoss_ETF.  Run some stats on BBoss_ETF vs Index_df to set baseline for A50_Return, Strategy_Returns, Index_Return, and pass into dict_summary { }. Also work out formulas for Alpha, Beta, Sharpe, Sortino, etc. and pass your results into  dict_summary, timestamped for Start Date of your q1 period.  \n",
    "### Assume risk-free rate for RMB is 2.00% pa"
   ]
  },
  {
   "cell_type": "code",
   "execution_count": null,
   "id": "be290034",
   "metadata": {},
   "outputs": [],
   "source": []
  },
  {
   "cell_type": "markdown",
   "id": "d01e53af0e14fc82",
   "metadata": {},
   "source": [
    "### (4-1) Model Data using Momentum Indicators to predict the weights for Best_10 for test period = q. Choose your own Momentum Indicators, which can be Rate of Change (n) where n is a whole integer ( currently used n=20 ), MACD(S,L) where Short = 5, Long = 14, or other combinations you deem effective, RSI (S,L)  where Short = 5, Long = 14) or other combinations you deem effective, or ARIMA (p,d,q).   \n",
    "### See which one works best for you to maximise returns for BBoss_ETF for period = q\n",
    "### Need to think how to switch component stocks in/out of BBoss_ETF and maintain intergity of BBoss_ETF. You may end up with one df for each test period.\n",
    "### We are not testing y-hat as a prediction of future price, instead we are actually using y-hat to maximize Alpha, so no need to use Algos for testing RMSE"
   ]
  },
  {
   "cell_type": "code",
   "execution_count": null,
   "id": "d445f87cccabe0d1",
   "metadata": {},
   "outputs": [],
   "source": []
  },
  {
   "cell_type": "code",
   "execution_count": null,
   "id": "d574b5e7647d5f4b",
   "metadata": {},
   "outputs": [],
   "source": []
  },
  {
   "cell_type": "markdown",
   "id": "f2b5bbcf2fbf9ed9",
   "metadata": {},
   "source": [
    "### (4-2) Insert write-up on Covid Measures and download all_industry.csv. \n",
    " ### Allocate Industry Classifications to df_data through dummy variables"
   ]
  },
  {
   "cell_type": "code",
   "execution_count": null,
   "id": "62d838ceb359888a",
   "metadata": {},
   "outputs": [],
   "source": []
  },
  {
   "cell_type": "markdown",
   "id": "dfbb8f7136362b4d",
   "metadata": {},
   "source": [
    "### (5) Introduce test for whether Alpha was significant enough to disprove Null Hypothesis, should be t-test. What about chi-square test? "
   ]
  },
  {
   "cell_type": "code",
   "execution_count": null,
   "id": "3039c78f626b4378",
   "metadata": {},
   "outputs": [],
   "source": []
  },
  {
   "cell_type": "markdown",
   "id": "1546152d57594b3",
   "metadata": {},
   "source": [
    "### (6) Presentation and Interpretation "
   ]
  },
  {
   "cell_type": "code",
   "execution_count": null,
   "id": "fe2cc66f2c03dff2",
   "metadata": {},
   "outputs": [],
   "source": []
  },
  {
   "cell_type": "markdown",
   "id": "e856454e709330e8",
   "metadata": {},
   "source": []
  }
 ],
 "metadata": {
  "kernelspec": {
   "display_name": "Python 3 (ipykernel)",
   "language": "python",
   "name": "python3"
  },
  "language_info": {
   "codemirror_mode": {
    "name": "ipython",
    "version": 3
   },
   "file_extension": ".py",
   "mimetype": "text/x-python",
   "name": "python",
   "nbconvert_exporter": "python",
   "pygments_lexer": "ipython3",
   "version": "3.11.3"
  }
 },
 "nbformat": 4,
 "nbformat_minor": 5
}
