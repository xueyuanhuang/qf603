{
 "cells": [
  {
   "cell_type": "code",
   "execution_count": 1,
   "id": "16cd42f4",
   "metadata": {},
   "outputs": [],
   "source": [
    "import pandas as pd"
   ]
  },
  {
   "cell_type": "code",
   "execution_count": 2,
   "id": "3060e470",
   "metadata": {},
   "outputs": [],
   "source": [
    "data = pd.read_csv(\"all_data.csv\")"
   ]
  },
  {
   "cell_type": "code",
   "execution_count": 3,
   "id": "dacdcc3d",
   "metadata": {},
   "outputs": [],
   "source": [
    "#get all a-50 stock code from 2016.1.4 to 2023.8.31\n",
    "codes = data.columns[8:]"
   ]
  },
  {
   "cell_type": "code",
   "execution_count": 4,
   "id": "8dd1c908",
   "metadata": {},
   "outputs": [
    {
     "data": {
      "text/html": [
       "<div>\n",
       "<style scoped>\n",
       "    .dataframe tbody tr th:only-of-type {\n",
       "        vertical-align: middle;\n",
       "    }\n",
       "\n",
       "    .dataframe tbody tr th {\n",
       "        vertical-align: top;\n",
       "    }\n",
       "\n",
       "    .dataframe thead th {\n",
       "        text-align: right;\n",
       "    }\n",
       "</style>\n",
       "<table border=\"1\" class=\"dataframe\">\n",
       "  <thead>\n",
       "    <tr style=\"text-align: right;\">\n",
       "      <th></th>\n",
       "      <th>security_code</th>\n",
       "    </tr>\n",
       "  </thead>\n",
       "  <tbody>\n",
       "    <tr>\n",
       "      <th>0</th>\n",
       "      <td>000001.SZ</td>\n",
       "    </tr>\n",
       "    <tr>\n",
       "      <th>1</th>\n",
       "      <td>000002.SZ</td>\n",
       "    </tr>\n",
       "    <tr>\n",
       "      <th>2</th>\n",
       "      <td>000063.SZ</td>\n",
       "    </tr>\n",
       "    <tr>\n",
       "      <th>3</th>\n",
       "      <td>000166.SZ</td>\n",
       "    </tr>\n",
       "    <tr>\n",
       "      <th>4</th>\n",
       "      <td>000333.SZ</td>\n",
       "    </tr>\n",
       "  </tbody>\n",
       "</table>\n",
       "</div>"
      ],
      "text/plain": [
       "  security_code\n",
       "0     000001.SZ\n",
       "1     000002.SZ\n",
       "2     000063.SZ\n",
       "3     000166.SZ\n",
       "4     000333.SZ"
      ]
     },
     "execution_count": 4,
     "metadata": {},
     "output_type": "execute_result"
    }
   ],
   "source": [
    "security_info = pd.DataFrame({\"security_code\":codes})\n",
    "security_info.head()"
   ]
  },
  {
   "cell_type": "code",
   "execution_count": 5,
   "id": "d1e319ff",
   "metadata": {},
   "outputs": [
    {
     "name": "stderr",
     "output_type": "stream",
     "text": [
      "E:\\software\\anaconda3\\Lib\\site-packages\\openpyxl\\styles\\stylesheet.py:226: UserWarning: Workbook contains no default style, apply openpyxl's default\n",
      "  warn(\"Workbook contains no default style, apply openpyxl's default\")\n"
     ]
    }
   ],
   "source": [
    "#get securityNameEn, sector, industry\n",
    "#ic = industryClassification\n",
    "ic = pd.read_excel(\"industryClassification.xlsx\")"
   ]
  },
  {
   "cell_type": "code",
   "execution_count": 6,
   "id": "0d1d0163",
   "metadata": {},
   "outputs": [],
   "source": [
    "merged_df = (security_info\n",
    "             .merge(ic, \n",
    "                    left_on=security_info[\"security_code\"].str.split(\".\").str[0],\n",
    "                    right_on=ic[\"securityCode\"],\n",
    "                    how=\"left\")\n",
    "            )"
   ]
  },
  {
   "cell_type": "code",
   "execution_count": 7,
   "id": "29b5f9b0",
   "metadata": {},
   "outputs": [
    {
     "data": {
      "text/html": [
       "<div>\n",
       "<style scoped>\n",
       "    .dataframe tbody tr th:only-of-type {\n",
       "        vertical-align: middle;\n",
       "    }\n",
       "\n",
       "    .dataframe tbody tr th {\n",
       "        vertical-align: top;\n",
       "    }\n",
       "\n",
       "    .dataframe thead th {\n",
       "        text-align: right;\n",
       "    }\n",
       "</style>\n",
       "<table border=\"1\" class=\"dataframe\">\n",
       "  <thead>\n",
       "    <tr style=\"text-align: right;\">\n",
       "      <th></th>\n",
       "      <th>security_code</th>\n",
       "      <th>securityNameEn</th>\n",
       "      <th>sector</th>\n",
       "      <th>industry</th>\n",
       "    </tr>\n",
       "  </thead>\n",
       "  <tbody>\n",
       "    <tr>\n",
       "      <th>0</th>\n",
       "      <td>000001.SZ</td>\n",
       "      <td>Ping An Bank Co., Ltd.</td>\n",
       "      <td>Financials</td>\n",
       "      <td>Banks</td>\n",
       "    </tr>\n",
       "    <tr>\n",
       "      <th>1</th>\n",
       "      <td>000002.SZ</td>\n",
       "      <td>China Vanke Co Ltd</td>\n",
       "      <td>Real Estate</td>\n",
       "      <td>Real Estate</td>\n",
       "    </tr>\n",
       "    <tr>\n",
       "      <th>2</th>\n",
       "      <td>000063.SZ</td>\n",
       "      <td>ZTE Corporation</td>\n",
       "      <td>Communication Services</td>\n",
       "      <td>Communication Equipment &amp; Technical Services</td>\n",
       "    </tr>\n",
       "    <tr>\n",
       "      <th>3</th>\n",
       "      <td>000166.SZ</td>\n",
       "      <td>Shenwan Hongyuan Group CO., LTD</td>\n",
       "      <td>Financials</td>\n",
       "      <td>Capital Markets</td>\n",
       "    </tr>\n",
       "    <tr>\n",
       "      <th>4</th>\n",
       "      <td>000333.SZ</td>\n",
       "      <td>Midea Group CO., LTD</td>\n",
       "      <td>Consumer Discretionary</td>\n",
       "      <td>Household Durables</td>\n",
       "    </tr>\n",
       "    <tr>\n",
       "      <th>...</th>\n",
       "      <td>...</td>\n",
       "      <td>...</td>\n",
       "      <td>...</td>\n",
       "      <td>...</td>\n",
       "    </tr>\n",
       "    <tr>\n",
       "      <th>99</th>\n",
       "      <td>601998.SS</td>\n",
       "      <td>China Citic Bank Corporation Limited</td>\n",
       "      <td>Financials</td>\n",
       "      <td>Banks</td>\n",
       "    </tr>\n",
       "    <tr>\n",
       "      <th>100</th>\n",
       "      <td>603259.SS</td>\n",
       "      <td>WuXi AppTec Co., Ltd.</td>\n",
       "      <td>Health Care</td>\n",
       "      <td>Pharmaceuticals</td>\n",
       "    </tr>\n",
       "    <tr>\n",
       "      <th>101</th>\n",
       "      <td>603288.SS</td>\n",
       "      <td>Foshan Haitian Flavouring and Food Company Ltd.</td>\n",
       "      <td>Consumer Staples</td>\n",
       "      <td>Food, Beverage &amp; Tobacco</td>\n",
       "    </tr>\n",
       "    <tr>\n",
       "      <th>102</th>\n",
       "      <td>603501.SS</td>\n",
       "      <td>Will Semiconductor CO.,Ltd. Shanghai</td>\n",
       "      <td>Information Technology</td>\n",
       "      <td>Semiconductors</td>\n",
       "    </tr>\n",
       "    <tr>\n",
       "      <th>103</th>\n",
       "      <td>603993.SS</td>\n",
       "      <td>China Molybdenum Co., Ltd.</td>\n",
       "      <td>Materials</td>\n",
       "      <td>Non-ferrous Metals</td>\n",
       "    </tr>\n",
       "  </tbody>\n",
       "</table>\n",
       "<p>104 rows × 4 columns</p>\n",
       "</div>"
      ],
      "text/plain": [
       "    security_code                                   securityNameEn  \\\n",
       "0       000001.SZ                           Ping An Bank Co., Ltd.   \n",
       "1       000002.SZ                               China Vanke Co Ltd   \n",
       "2       000063.SZ                                  ZTE Corporation   \n",
       "3       000166.SZ                  Shenwan Hongyuan Group CO., LTD   \n",
       "4       000333.SZ                             Midea Group CO., LTD   \n",
       "..            ...                                              ...   \n",
       "99      601998.SS             China Citic Bank Corporation Limited   \n",
       "100     603259.SS                            WuXi AppTec Co., Ltd.   \n",
       "101     603288.SS  Foshan Haitian Flavouring and Food Company Ltd.   \n",
       "102     603501.SS             Will Semiconductor CO.,Ltd. Shanghai   \n",
       "103     603993.SS                       China Molybdenum Co., Ltd.   \n",
       "\n",
       "                     sector                                      industry  \n",
       "0                Financials                                         Banks  \n",
       "1               Real Estate                                   Real Estate  \n",
       "2    Communication Services  Communication Equipment & Technical Services  \n",
       "3                Financials                               Capital Markets  \n",
       "4    Consumer Discretionary                            Household Durables  \n",
       "..                      ...                                           ...  \n",
       "99               Financials                                         Banks  \n",
       "100             Health Care                               Pharmaceuticals  \n",
       "101        Consumer Staples                      Food, Beverage & Tobacco  \n",
       "102  Information Technology                                Semiconductors  \n",
       "103               Materials                            Non-ferrous Metals  \n",
       "\n",
       "[104 rows x 4 columns]"
      ]
     },
     "execution_count": 7,
     "metadata": {},
     "output_type": "execute_result"
    }
   ],
   "source": [
    "security_info1 = (merged_df[[\"security_code\", \"securityNameEn\", \"cics1stNameEn\", \"cics2ndNameEn\"]]\n",
    "                  .copy()\n",
    "                 )\n",
    "security_info1.rename(columns={\"cics1stNameEn\":\"sector\", \"cics2ndNameEn\":\"industry\"}, inplace = True)\n",
    "security_info1"
   ]
  },
  {
   "cell_type": "code",
   "execution_count": 12,
   "id": "a3e762ab",
   "metadata": {},
   "outputs": [
    {
     "data": {
      "text/plain": [
       "array(['Banks', 'Real Estate',\n",
       "       'Communication Equipment & Technical Services', 'Capital Markets',\n",
       "       'Household Durables', 'Food, Beverage & Tobacco', 'Electronics',\n",
       "       'Retailing', 'Media', 'Pharmaceuticals', 'Transportation',\n",
       "       'Passenger Vehicles & Auto Parts', 'Consumer Services',\n",
       "       'Agriculture, Animal Husbandry & Fishery', 'Electrical Equipment',\n",
       "       'Medical Treatment', 'Steel', 'Utilities', 'Energy', 'Machinery',\n",
       "       'Telecom Services', 'Chemicals', 'Non-metal Mining & Products',\n",
       "       'Construction & Decoration', 'Insurance', 'Computers',\n",
       "       'Non-ferrous Metals', 'Semiconductors'], dtype=object)"
      ]
     },
     "execution_count": 12,
     "metadata": {},
     "output_type": "execute_result"
    }
   ],
   "source": [
    "security_info1[\"industry\"].unique()"
   ]
  },
  {
   "cell_type": "code",
   "execution_count": 17,
   "id": "7750c4fd",
   "metadata": {},
   "outputs": [],
   "source": [
    "industry_mapping = ({'Banks': 0,\n",
    "                     'Real Estate': 0,\n",
    "                     'Communication Equipment & Technical Services': 1,\n",
    "                     \"Capital Markets\":0,\n",
    "                     \"Household Durables\":0,\n",
    "                     \"Food, Beverage & Tobacco\":0,\n",
    "                     \"Electronics\":0,\n",
    "                     \"Retailing\":0,\n",
    "                     \"Media\":1,\n",
    "                     \"Pharmaceuticals\":1,\n",
    "                     'Transportation':0,\n",
    "                     'Passenger Vehicles & Auto Parts':0,\n",
    "                     'Consumer Services':0,\n",
    "                     'Agriculture, Animal Husbandry & Fishery':0, \n",
    "                     'Electrical Equipment':0,\n",
    "                     'Medical Treatment':1, \n",
    "                     'Steel':0,\n",
    "                     'Utilities':0,\n",
    "                     'Energy':0, \n",
    "                     'Machinery':0,\n",
    "                     'Telecom Services':0, \n",
    "                     'Chemicals':0,\n",
    "                     'Non-metal Mining & Products':0,\n",
    "                     'Construction & Decoration':0,\n",
    "                     'Insurance':0, \n",
    "                     'Computers':0,\n",
    "                     'Non-ferrous Metals':0,\n",
    "                     'Semiconductors':0\n",
    "                    }\n",
    "                   )"
   ]
  },
  {
   "cell_type": "code",
   "execution_count": 18,
   "id": "cca71f03",
   "metadata": {},
   "outputs": [],
   "source": [
    "security_info1[\"covid_positive\"] = security_info1[\"industry\"].map(industry_mapping)"
   ]
  },
  {
   "cell_type": "code",
   "execution_count": 20,
   "id": "b44bca30",
   "metadata": {},
   "outputs": [
    {
     "name": "stdout",
     "output_type": "stream",
     "text": [
      "<class 'pandas.core.frame.DataFrame'>\n",
      "RangeIndex: 104 entries, 0 to 103\n",
      "Data columns (total 5 columns):\n",
      " #   Column          Non-Null Count  Dtype \n",
      "---  ------          --------------  ----- \n",
      " 0   security_code   104 non-null    object\n",
      " 1   securityNameEn  104 non-null    object\n",
      " 2   sector          104 non-null    object\n",
      " 3   industry        104 non-null    object\n",
      " 4   covid_positive  104 non-null    int64 \n",
      "dtypes: int64(1), object(4)\n",
      "memory usage: 4.2+ KB\n"
     ]
    }
   ],
   "source": [
    "security_info1.info()"
   ]
  },
  {
   "cell_type": "code",
   "execution_count": null,
   "id": "99ae848d",
   "metadata": {},
   "outputs": [],
   "source": []
  }
 ],
 "metadata": {
  "kernelspec": {
   "display_name": "Python 3 (ipykernel)",
   "language": "python",
   "name": "python3"
  },
  "language_info": {
   "codemirror_mode": {
    "name": "ipython",
    "version": 3
   },
   "file_extension": ".py",
   "mimetype": "text/x-python",
   "name": "python",
   "nbconvert_exporter": "python",
   "pygments_lexer": "ipython3",
   "version": "3.11.3"
  }
 },
 "nbformat": 4,
 "nbformat_minor": 5
}
